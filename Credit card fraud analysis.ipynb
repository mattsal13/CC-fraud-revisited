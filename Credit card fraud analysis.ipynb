{
 "cells": [
  {
   "cell_type": "code",
   "execution_count": 157,
   "id": "66e96872",
   "metadata": {},
   "outputs": [],
   "source": [
    "import numpy as np\n",
    "import matplotlib.pyplot as plt\n",
    "import pandas as pd\n",
    "import tensorflow as tf\n",
    "import keras\n",
    "\n",
    "from collections import Counter\n",
    "\n",
    "# For multiple scatter plots: \n",
    "\n",
    "from pandas.plotting import scatter_matrix\n",
    "\n",
    "# For taking multiple unions:\n",
    "\n",
    "from functools import reduce\n",
    "\n",
    "# scikit stuff\n",
    "\n",
    "from sklearn.model_selection import train_test_split, StratifiedKFold\n",
    "from sklearn.base import clone\n",
    "\n",
    "# Random forests \n",
    "\n",
    "from sklearn.ensemble import RandomForestClassifier\n",
    "\n",
    "## Precision\n",
    "from sklearn.metrics import precision_score\n",
    "## Recall\n",
    "from sklearn.metrics import recall_score"
   ]
  },
  {
   "cell_type": "code",
   "execution_count": 11,
   "id": "1b90ea90",
   "metadata": {},
   "outputs": [],
   "source": [
    "cc_fraud_file = pd.read_csv('C:/Users/matts/Downloads/creditcard.csv.zip')"
   ]
  },
  {
   "cell_type": "code",
   "execution_count": 12,
   "id": "e495a2d4",
   "metadata": {},
   "outputs": [],
   "source": [
    "df = pd.DataFrame(cc_fraud_file)"
   ]
  },
  {
   "cell_type": "code",
   "execution_count": 13,
   "id": "fb205bdf",
   "metadata": {},
   "outputs": [
    {
     "name": "stdout",
     "output_type": "stream",
     "text": [
      "(284807, 31)\n"
     ]
    },
    {
     "data": {
      "text/html": [
       "<div>\n",
       "<style scoped>\n",
       "    .dataframe tbody tr th:only-of-type {\n",
       "        vertical-align: middle;\n",
       "    }\n",
       "\n",
       "    .dataframe tbody tr th {\n",
       "        vertical-align: top;\n",
       "    }\n",
       "\n",
       "    .dataframe thead th {\n",
       "        text-align: right;\n",
       "    }\n",
       "</style>\n",
       "<table border=\"1\" class=\"dataframe\">\n",
       "  <thead>\n",
       "    <tr style=\"text-align: right;\">\n",
       "      <th></th>\n",
       "      <th>Time</th>\n",
       "      <th>V1</th>\n",
       "      <th>V2</th>\n",
       "      <th>V3</th>\n",
       "      <th>V4</th>\n",
       "      <th>V5</th>\n",
       "      <th>V6</th>\n",
       "      <th>V7</th>\n",
       "      <th>V8</th>\n",
       "      <th>V9</th>\n",
       "      <th>...</th>\n",
       "      <th>V21</th>\n",
       "      <th>V22</th>\n",
       "      <th>V23</th>\n",
       "      <th>V24</th>\n",
       "      <th>V25</th>\n",
       "      <th>V26</th>\n",
       "      <th>V27</th>\n",
       "      <th>V28</th>\n",
       "      <th>Amount</th>\n",
       "      <th>Class</th>\n",
       "    </tr>\n",
       "  </thead>\n",
       "  <tbody>\n",
       "    <tr>\n",
       "      <th>0</th>\n",
       "      <td>0.0</td>\n",
       "      <td>-1.359807</td>\n",
       "      <td>-0.072781</td>\n",
       "      <td>2.536347</td>\n",
       "      <td>1.378155</td>\n",
       "      <td>-0.338321</td>\n",
       "      <td>0.462388</td>\n",
       "      <td>0.239599</td>\n",
       "      <td>0.098698</td>\n",
       "      <td>0.363787</td>\n",
       "      <td>...</td>\n",
       "      <td>-0.018307</td>\n",
       "      <td>0.277838</td>\n",
       "      <td>-0.110474</td>\n",
       "      <td>0.066928</td>\n",
       "      <td>0.128539</td>\n",
       "      <td>-0.189115</td>\n",
       "      <td>0.133558</td>\n",
       "      <td>-0.021053</td>\n",
       "      <td>149.62</td>\n",
       "      <td>0</td>\n",
       "    </tr>\n",
       "    <tr>\n",
       "      <th>1</th>\n",
       "      <td>0.0</td>\n",
       "      <td>1.191857</td>\n",
       "      <td>0.266151</td>\n",
       "      <td>0.166480</td>\n",
       "      <td>0.448154</td>\n",
       "      <td>0.060018</td>\n",
       "      <td>-0.082361</td>\n",
       "      <td>-0.078803</td>\n",
       "      <td>0.085102</td>\n",
       "      <td>-0.255425</td>\n",
       "      <td>...</td>\n",
       "      <td>-0.225775</td>\n",
       "      <td>-0.638672</td>\n",
       "      <td>0.101288</td>\n",
       "      <td>-0.339846</td>\n",
       "      <td>0.167170</td>\n",
       "      <td>0.125895</td>\n",
       "      <td>-0.008983</td>\n",
       "      <td>0.014724</td>\n",
       "      <td>2.69</td>\n",
       "      <td>0</td>\n",
       "    </tr>\n",
       "    <tr>\n",
       "      <th>2</th>\n",
       "      <td>1.0</td>\n",
       "      <td>-1.358354</td>\n",
       "      <td>-1.340163</td>\n",
       "      <td>1.773209</td>\n",
       "      <td>0.379780</td>\n",
       "      <td>-0.503198</td>\n",
       "      <td>1.800499</td>\n",
       "      <td>0.791461</td>\n",
       "      <td>0.247676</td>\n",
       "      <td>-1.514654</td>\n",
       "      <td>...</td>\n",
       "      <td>0.247998</td>\n",
       "      <td>0.771679</td>\n",
       "      <td>0.909412</td>\n",
       "      <td>-0.689281</td>\n",
       "      <td>-0.327642</td>\n",
       "      <td>-0.139097</td>\n",
       "      <td>-0.055353</td>\n",
       "      <td>-0.059752</td>\n",
       "      <td>378.66</td>\n",
       "      <td>0</td>\n",
       "    </tr>\n",
       "    <tr>\n",
       "      <th>3</th>\n",
       "      <td>1.0</td>\n",
       "      <td>-0.966272</td>\n",
       "      <td>-0.185226</td>\n",
       "      <td>1.792993</td>\n",
       "      <td>-0.863291</td>\n",
       "      <td>-0.010309</td>\n",
       "      <td>1.247203</td>\n",
       "      <td>0.237609</td>\n",
       "      <td>0.377436</td>\n",
       "      <td>-1.387024</td>\n",
       "      <td>...</td>\n",
       "      <td>-0.108300</td>\n",
       "      <td>0.005274</td>\n",
       "      <td>-0.190321</td>\n",
       "      <td>-1.175575</td>\n",
       "      <td>0.647376</td>\n",
       "      <td>-0.221929</td>\n",
       "      <td>0.062723</td>\n",
       "      <td>0.061458</td>\n",
       "      <td>123.50</td>\n",
       "      <td>0</td>\n",
       "    </tr>\n",
       "    <tr>\n",
       "      <th>4</th>\n",
       "      <td>2.0</td>\n",
       "      <td>-1.158233</td>\n",
       "      <td>0.877737</td>\n",
       "      <td>1.548718</td>\n",
       "      <td>0.403034</td>\n",
       "      <td>-0.407193</td>\n",
       "      <td>0.095921</td>\n",
       "      <td>0.592941</td>\n",
       "      <td>-0.270533</td>\n",
       "      <td>0.817739</td>\n",
       "      <td>...</td>\n",
       "      <td>-0.009431</td>\n",
       "      <td>0.798278</td>\n",
       "      <td>-0.137458</td>\n",
       "      <td>0.141267</td>\n",
       "      <td>-0.206010</td>\n",
       "      <td>0.502292</td>\n",
       "      <td>0.219422</td>\n",
       "      <td>0.215153</td>\n",
       "      <td>69.99</td>\n",
       "      <td>0</td>\n",
       "    </tr>\n",
       "  </tbody>\n",
       "</table>\n",
       "<p>5 rows × 31 columns</p>\n",
       "</div>"
      ],
      "text/plain": [
       "   Time        V1        V2        V3        V4        V5        V6        V7  \\\n",
       "0   0.0 -1.359807 -0.072781  2.536347  1.378155 -0.338321  0.462388  0.239599   \n",
       "1   0.0  1.191857  0.266151  0.166480  0.448154  0.060018 -0.082361 -0.078803   \n",
       "2   1.0 -1.358354 -1.340163  1.773209  0.379780 -0.503198  1.800499  0.791461   \n",
       "3   1.0 -0.966272 -0.185226  1.792993 -0.863291 -0.010309  1.247203  0.237609   \n",
       "4   2.0 -1.158233  0.877737  1.548718  0.403034 -0.407193  0.095921  0.592941   \n",
       "\n",
       "         V8        V9  ...       V21       V22       V23       V24       V25  \\\n",
       "0  0.098698  0.363787  ... -0.018307  0.277838 -0.110474  0.066928  0.128539   \n",
       "1  0.085102 -0.255425  ... -0.225775 -0.638672  0.101288 -0.339846  0.167170   \n",
       "2  0.247676 -1.514654  ...  0.247998  0.771679  0.909412 -0.689281 -0.327642   \n",
       "3  0.377436 -1.387024  ... -0.108300  0.005274 -0.190321 -1.175575  0.647376   \n",
       "4 -0.270533  0.817739  ... -0.009431  0.798278 -0.137458  0.141267 -0.206010   \n",
       "\n",
       "        V26       V27       V28  Amount  Class  \n",
       "0 -0.189115  0.133558 -0.021053  149.62      0  \n",
       "1  0.125895 -0.008983  0.014724    2.69      0  \n",
       "2 -0.139097 -0.055353 -0.059752  378.66      0  \n",
       "3 -0.221929  0.062723  0.061458  123.50      0  \n",
       "4  0.502292  0.219422  0.215153   69.99      0  \n",
       "\n",
       "[5 rows x 31 columns]"
      ]
     },
     "execution_count": 13,
     "metadata": {},
     "output_type": "execute_result"
    }
   ],
   "source": [
    "print(np.shape(df))\n",
    "\n",
    "df.head()"
   ]
  },
  {
   "cell_type": "code",
   "execution_count": 14,
   "id": "037ee7b0",
   "metadata": {},
   "outputs": [],
   "source": [
    "# Correlation matrix\n",
    "\n",
    "corr_matrix = df.corr(method='pearson')"
   ]
  },
  {
   "cell_type": "code",
   "execution_count": 15,
   "id": "c5359789",
   "metadata": {},
   "outputs": [
    {
     "data": {
      "image/png": "[encoded data removed]",
      "text/plain": [
       "<Figure size 864x864 with 2 Axes>"
      ]
     },
     "metadata": {
      "needs_background": "light"
     },
     "output_type": "display_data"
    }
   ],
   "source": [
    "# Visualize the correlation matrix (code taken from \n",
    "# https://stackoverflow.com/questions/29432629/plot-correlation-matrix-using-pandas)\n",
    "\n",
    "f = plt.figure(figsize=(12, 12))\n",
    "plt.matshow(corr_matrix, fignum=f.number)\n",
    "plt.xticks(range(df.select_dtypes(['number']).shape[1]), df.select_dtypes(['number']).columns, fontsize=10, rotation=45)\n",
    "plt.yticks(range(df.select_dtypes(['number']).shape[1]), df.select_dtypes(['number']).columns, fontsize=10)\n",
    "cb = plt.colorbar()\n",
    "cb.ax.tick_params(labelsize=12)\n",
    "plt.title('Correlation Matrix', fontsize=12);"
   ]
  },
  {
   "cell_type": "code",
   "execution_count": 16,
   "id": "7c1cb005",
   "metadata": {},
   "outputs": [],
   "source": [
    "plt.close()\n",
    "\n",
    "# The V variables are independent. The only correlations are with time amount and class. Does this mean\n",
    "# I should just focus on the features that have high correlations? "
   ]
  },
  {
   "cell_type": "code",
   "execution_count": 17,
   "id": "c8f76383",
   "metadata": {},
   "outputs": [
    {
     "name": "stdout",
     "output_type": "stream",
     "text": [
      "[0 3]\n",
      "1.0 0.41961817221152137\n"
     ]
    }
   ],
   "source": [
    "# Pick out variables whose correlation with Time is above a certain threshold. \n",
    "\n",
    "time_column = np.abs(np.array(corr_matrix['Time']))\n",
    "\n",
    "threshold = (time_column > 0.3)\n",
    "\n",
    "corr_indices = np.where(threshold == True)[0]\n",
    "\n",
    "print(corr_indices)\n",
    "\n",
    "# Note that time itself is the correlation at position 0:\n",
    "\n",
    "print(time_column[0], time_column[3])\n",
    "\n",
    "# So we'll consider V3"
   ]
  },
  {
   "cell_type": "code",
   "execution_count": 18,
   "id": "b0b9a1d5",
   "metadata": {},
   "outputs": [
    {
     "data": {
      "text/plain": [
       "array([14, 17, 30], dtype=int64)"
      ]
     },
     "execution_count": 18,
     "metadata": {},
     "output_type": "execute_result"
    }
   ],
   "source": [
    "# Correlations with Class: V14, V17\n",
    "\n",
    "class_column = np.abs(np.array(corr_matrix['Class']))\n",
    "\n",
    "threshold = (class_column > 0.3)\n",
    "\n",
    "corr_indices = np.where(threshold == True)[0]\n",
    "\n",
    "corr_indices"
   ]
  },
  {
   "cell_type": "code",
   "execution_count": 19,
   "id": "8a4a5baa",
   "metadata": {},
   "outputs": [
    {
     "name": "stdout",
     "output_type": "stream",
     "text": [
      "[ 2  5  7 20 29]\n",
      "[0.5314089393280346, 0.38635625616306496, 0.39731127818168616, 0.3394034045461662, 1.0]\n"
     ]
    }
   ],
   "source": [
    "# And for Amount...\n",
    "\n",
    "amount_column = np.abs(np.array(corr_matrix['Amount']))\n",
    "\n",
    "threshold = (amount_column > 0.3)\n",
    "\n",
    "corr_indices = np.where(threshold == True)[0]\n",
    "\n",
    "print(corr_indices)\n",
    "\n",
    "# Position 29 corresponds to Amount\n",
    "\n",
    "print([amount_column[k] for k in corr_indices])\n",
    "\n",
    "# So from this we get V2, V5, V7, and V20 "
   ]
  },
  {
   "cell_type": "code",
   "execution_count": 20,
   "id": "141353ce",
   "metadata": {},
   "outputs": [
    {
     "data": {
      "text/plain": [
       "(1, 284807)"
      ]
     },
     "execution_count": 20,
     "metadata": {},
     "output_type": "execute_result"
    }
   ],
   "source": [
    "np.shape([df['Amount']])"
   ]
  },
  {
   "cell_type": "code",
   "execution_count": 21,
   "id": "54f09d7a",
   "metadata": {},
   "outputs": [
    {
     "name": "stdout",
     "output_type": "stream",
     "text": [
      "(284807, 8)\n"
     ]
    }
   ],
   "source": [
    "data = pd.DataFrame([df['Class'], df['Time'], df['Amount'], df['V2'], df['V3'], df['V5'], df['V7'], df['V20']])\n",
    "\n",
    "new_df = data.transpose()\n",
    "\n",
    "print(np.shape(new_df))\n",
    "\n",
    "# Make a copy of relevant_data\n",
    "\n",
    "data_copy = new_df.copy()"
   ]
  },
  {
   "cell_type": "code",
   "execution_count": 22,
   "id": "fa971c42",
   "metadata": {},
   "outputs": [
    {
     "data": {
      "text/html": [
       "<div>\n",
       "<style scoped>\n",
       "    .dataframe tbody tr th:only-of-type {\n",
       "        vertical-align: middle;\n",
       "    }\n",
       "\n",
       "    .dataframe tbody tr th {\n",
       "        vertical-align: top;\n",
       "    }\n",
       "\n",
       "    .dataframe thead th {\n",
       "        text-align: right;\n",
       "    }\n",
       "</style>\n",
       "<table border=\"1\" class=\"dataframe\">\n",
       "  <thead>\n",
       "    <tr style=\"text-align: right;\">\n",
       "      <th></th>\n",
       "      <th>Class</th>\n",
       "      <th>Time</th>\n",
       "      <th>Amount</th>\n",
       "      <th>V2</th>\n",
       "      <th>V3</th>\n",
       "      <th>V5</th>\n",
       "      <th>V7</th>\n",
       "      <th>V20</th>\n",
       "    </tr>\n",
       "  </thead>\n",
       "  <tbody>\n",
       "    <tr>\n",
       "      <th>0</th>\n",
       "      <td>0.0</td>\n",
       "      <td>0.0</td>\n",
       "      <td>149.62</td>\n",
       "      <td>-0.072781</td>\n",
       "      <td>2.536347</td>\n",
       "      <td>-0.338321</td>\n",
       "      <td>0.239599</td>\n",
       "      <td>0.251412</td>\n",
       "    </tr>\n",
       "    <tr>\n",
       "      <th>1</th>\n",
       "      <td>0.0</td>\n",
       "      <td>0.0</td>\n",
       "      <td>2.69</td>\n",
       "      <td>0.266151</td>\n",
       "      <td>0.166480</td>\n",
       "      <td>0.060018</td>\n",
       "      <td>-0.078803</td>\n",
       "      <td>-0.069083</td>\n",
       "    </tr>\n",
       "    <tr>\n",
       "      <th>2</th>\n",
       "      <td>0.0</td>\n",
       "      <td>1.0</td>\n",
       "      <td>378.66</td>\n",
       "      <td>-1.340163</td>\n",
       "      <td>1.773209</td>\n",
       "      <td>-0.503198</td>\n",
       "      <td>0.791461</td>\n",
       "      <td>0.524980</td>\n",
       "    </tr>\n",
       "    <tr>\n",
       "      <th>3</th>\n",
       "      <td>0.0</td>\n",
       "      <td>1.0</td>\n",
       "      <td>123.50</td>\n",
       "      <td>-0.185226</td>\n",
       "      <td>1.792993</td>\n",
       "      <td>-0.010309</td>\n",
       "      <td>0.237609</td>\n",
       "      <td>-0.208038</td>\n",
       "    </tr>\n",
       "    <tr>\n",
       "      <th>4</th>\n",
       "      <td>0.0</td>\n",
       "      <td>2.0</td>\n",
       "      <td>69.99</td>\n",
       "      <td>0.877737</td>\n",
       "      <td>1.548718</td>\n",
       "      <td>-0.407193</td>\n",
       "      <td>0.592941</td>\n",
       "      <td>0.408542</td>\n",
       "    </tr>\n",
       "  </tbody>\n",
       "</table>\n",
       "</div>"
      ],
      "text/plain": [
       "   Class  Time  Amount        V2        V3        V5        V7       V20\n",
       "0    0.0   0.0  149.62 -0.072781  2.536347 -0.338321  0.239599  0.251412\n",
       "1    0.0   0.0    2.69  0.266151  0.166480  0.060018 -0.078803 -0.069083\n",
       "2    0.0   1.0  378.66 -1.340163  1.773209 -0.503198  0.791461  0.524980\n",
       "3    0.0   1.0  123.50 -0.185226  1.792993 -0.010309  0.237609 -0.208038\n",
       "4    0.0   2.0   69.99  0.877737  1.548718 -0.407193  0.592941  0.408542"
      ]
     },
     "execution_count": 22,
     "metadata": {},
     "output_type": "execute_result"
    }
   ],
   "source": [
    "new_df.head()"
   ]
  },
  {
   "cell_type": "code",
   "execution_count": 23,
   "id": "00cbd0a1",
   "metadata": {},
   "outputs": [
    {
     "data": {
      "text/plain": [
       "0.0017304750013189597"
      ]
     },
     "execution_count": 23,
     "metadata": {},
     "output_type": "execute_result"
    }
   ],
   "source": [
    "# So just how skewed is the dataset? Fraudulent transactions make up < 0.18 % of the dataset. \n",
    "\n",
    "class_array = list(df['Class'])\n",
    "valid_trans = class_array.count(0)\n",
    "fraud_trans = class_array.count(1) \n",
    "\n",
    "fraud_trans/valid_trans"
   ]
  },
  {
   "cell_type": "code",
   "execution_count": 24,
   "id": "ae946886",
   "metadata": {},
   "outputs": [],
   "source": [
    "# Create the test/train split. \n",
    "\n",
    "train_data = data_copy.sample(frac = .80, random_state = 614)\n",
    "test_data = data_copy.drop(train_data.index)"
   ]
  },
  {
   "cell_type": "code",
   "execution_count": 25,
   "id": "bb4295b2",
   "metadata": {},
   "outputs": [
    {
     "data": {
      "text/html": [
       "<div>\n",
       "<style scoped>\n",
       "    .dataframe tbody tr th:only-of-type {\n",
       "        vertical-align: middle;\n",
       "    }\n",
       "\n",
       "    .dataframe tbody tr th {\n",
       "        vertical-align: top;\n",
       "    }\n",
       "\n",
       "    .dataframe thead th {\n",
       "        text-align: right;\n",
       "    }\n",
       "</style>\n",
       "<table border=\"1\" class=\"dataframe\">\n",
       "  <thead>\n",
       "    <tr style=\"text-align: right;\">\n",
       "      <th></th>\n",
       "      <th>Class</th>\n",
       "      <th>Time</th>\n",
       "      <th>Amount</th>\n",
       "      <th>V2</th>\n",
       "      <th>V3</th>\n",
       "      <th>V5</th>\n",
       "      <th>V7</th>\n",
       "      <th>V20</th>\n",
       "    </tr>\n",
       "  </thead>\n",
       "  <tbody>\n",
       "    <tr>\n",
       "      <th>142341</th>\n",
       "      <td>0.0</td>\n",
       "      <td>84655.0</td>\n",
       "      <td>61.66</td>\n",
       "      <td>-0.641146</td>\n",
       "      <td>0.509117</td>\n",
       "      <td>-1.373556</td>\n",
       "      <td>-0.403971</td>\n",
       "      <td>-0.400919</td>\n",
       "    </tr>\n",
       "    <tr>\n",
       "      <th>44866</th>\n",
       "      <td>0.0</td>\n",
       "      <td>42117.0</td>\n",
       "      <td>656.49</td>\n",
       "      <td>-0.113405</td>\n",
       "      <td>-0.694370</td>\n",
       "      <td>-3.576348</td>\n",
       "      <td>2.000231</td>\n",
       "      <td>-0.241323</td>\n",
       "    </tr>\n",
       "    <tr>\n",
       "      <th>39170</th>\n",
       "      <td>0.0</td>\n",
       "      <td>39722.0</td>\n",
       "      <td>401.67</td>\n",
       "      <td>-1.141811</td>\n",
       "      <td>-0.207233</td>\n",
       "      <td>-0.344604</td>\n",
       "      <td>0.400823</td>\n",
       "      <td>0.531371</td>\n",
       "    </tr>\n",
       "    <tr>\n",
       "      <th>113763</th>\n",
       "      <td>0.0</td>\n",
       "      <td>73194.0</td>\n",
       "      <td>43.77</td>\n",
       "      <td>1.223137</td>\n",
       "      <td>-0.022789</td>\n",
       "      <td>0.202397</td>\n",
       "      <td>0.490439</td>\n",
       "      <td>-0.181692</td>\n",
       "    </tr>\n",
       "    <tr>\n",
       "      <th>190989</th>\n",
       "      <td>0.0</td>\n",
       "      <td>129063.0</td>\n",
       "      <td>29.40</td>\n",
       "      <td>-1.574852</td>\n",
       "      <td>-1.128711</td>\n",
       "      <td>-1.068691</td>\n",
       "      <td>-1.342566</td>\n",
       "      <td>-0.439047</td>\n",
       "    </tr>\n",
       "  </tbody>\n",
       "</table>\n",
       "</div>"
      ],
      "text/plain": [
       "        Class      Time  Amount        V2        V3        V5        V7  \\\n",
       "142341    0.0   84655.0   61.66 -0.641146  0.509117 -1.373556 -0.403971   \n",
       "44866     0.0   42117.0  656.49 -0.113405 -0.694370 -3.576348  2.000231   \n",
       "39170     0.0   39722.0  401.67 -1.141811 -0.207233 -0.344604  0.400823   \n",
       "113763    0.0   73194.0   43.77  1.223137 -0.022789  0.202397  0.490439   \n",
       "190989    0.0  129063.0   29.40 -1.574852 -1.128711 -1.068691 -1.342566   \n",
       "\n",
       "             V20  \n",
       "142341 -0.400919  \n",
       "44866  -0.241323  \n",
       "39170   0.531371  \n",
       "113763 -0.181692  \n",
       "190989 -0.439047  "
      ]
     },
     "execution_count": 25,
     "metadata": {},
     "output_type": "execute_result"
    }
   ],
   "source": [
    "train_data.head()"
   ]
  },
  {
   "cell_type": "code",
   "execution_count": 26,
   "id": "c581fae9",
   "metadata": {},
   "outputs": [
    {
     "data": {
      "text/plain": [
       "142341    0.0\n",
       "44866     0.0\n",
       "39170     0.0\n",
       "113763    0.0\n",
       "190989    0.0\n",
       "         ... \n",
       "76815     0.0\n",
       "71333     0.0\n",
       "7534      0.0\n",
       "115509    0.0\n",
       "181004    0.0\n",
       "Name: Class, Length: 227846, dtype: float64"
      ]
     },
     "execution_count": 26,
     "metadata": {},
     "output_type": "execute_result"
    }
   ],
   "source": [
    "train_data['Class']"
   ]
  },
  {
   "cell_type": "code",
   "execution_count": 27,
   "id": "5b0e2364",
   "metadata": {},
   "outputs": [
    {
     "name": "stdout",
     "output_type": "stream",
     "text": [
      "            Time  Amount        V2        V3        V5        V7       V20\n",
      "142341   84655.0   61.66 -0.641146  0.509117 -1.373556 -0.403971 -0.400919\n",
      "44866    42117.0  656.49 -0.113405 -0.694370 -3.576348  2.000231 -0.241323\n",
      "39170    39722.0  401.67 -1.141811 -0.207233 -0.344604  0.400823  0.531371\n",
      "113763   73194.0   43.77  1.223137 -0.022789  0.202397  0.490439 -0.181692\n",
      "190989  129063.0   29.40 -1.574852 -1.128711 -1.068691 -1.342566 -0.439047\n",
      "...          ...     ...       ...       ...       ...       ...       ...\n",
      "76815    56756.0    3.96  1.157923  1.556300  0.857027  0.812400  0.510981\n",
      "71333    54259.0   50.00  0.036658 -0.463956 -0.870029 -0.192788 -0.220542\n",
      "7534     10305.0    0.76  0.667139 -0.634524  0.623429  0.208048 -0.058884\n",
      "115509   73889.0   29.99  2.155404 -0.767566 -1.059269 -0.927573  0.070419\n",
      "181004  124784.0   85.80 -1.876930  1.526624 -0.790768 -0.728540 -0.667197\n",
      "\n",
      "[227846 rows x 7 columns]\n",
      "Time      94774.716971\n",
      "Amount       88.253930\n",
      "V2           -0.001303\n",
      "V3            0.000953\n",
      "V5           -0.000148\n",
      "V7            0.000351\n",
      "V20          -0.001157\n",
      "dtype: float64\n"
     ]
    }
   ],
   "source": [
    "# Important. Needed for rescaling. \n",
    "\n",
    "variables = train_data.iloc[::,1::]\n",
    "print(variables)\n",
    "\n",
    "total = train_data.shape[0]\n",
    "\n",
    "averages = 1/total * np.sum(variables)\n",
    "print(averages)\n",
    "\n",
    "\n",
    "variances = 1/total * np.sum((variables - averages)**2)\n",
    "\n",
    "SDs = np.sqrt(variances)"
   ]
  },
  {
   "cell_type": "code",
   "execution_count": 28,
   "id": "b763e359",
   "metadata": {},
   "outputs": [
    {
     "data": {
      "text/html": [
       "<div>\n",
       "<style scoped>\n",
       "    .dataframe tbody tr th:only-of-type {\n",
       "        vertical-align: middle;\n",
       "    }\n",
       "\n",
       "    .dataframe tbody tr th {\n",
       "        vertical-align: top;\n",
       "    }\n",
       "\n",
       "    .dataframe thead th {\n",
       "        text-align: right;\n",
       "    }\n",
       "</style>\n",
       "<table border=\"1\" class=\"dataframe\">\n",
       "  <thead>\n",
       "    <tr style=\"text-align: right;\">\n",
       "      <th></th>\n",
       "      <th>Time</th>\n",
       "      <th>Amount</th>\n",
       "      <th>V2</th>\n",
       "      <th>V3</th>\n",
       "      <th>V5</th>\n",
       "      <th>V7</th>\n",
       "      <th>V20</th>\n",
       "    </tr>\n",
       "  </thead>\n",
       "  <tbody>\n",
       "    <tr>\n",
       "      <th>142341</th>\n",
       "      <td>-0.213151</td>\n",
       "      <td>-0.105514</td>\n",
       "      <td>-0.387376</td>\n",
       "      <td>0.335403</td>\n",
       "      <td>-0.990189</td>\n",
       "      <td>-0.324957</td>\n",
       "      <td>-0.515083</td>\n",
       "    </tr>\n",
       "    <tr>\n",
       "      <th>44866</th>\n",
       "      <td>-1.109129</td>\n",
       "      <td>2.254533</td>\n",
       "      <td>-0.067869</td>\n",
       "      <td>-0.458933</td>\n",
       "      <td>-2.578340</td>\n",
       "      <td>1.607326</td>\n",
       "      <td>-0.309448</td>\n",
       "    </tr>\n",
       "    <tr>\n",
       "      <th>39170</th>\n",
       "      <td>-1.159574</td>\n",
       "      <td>1.243510</td>\n",
       "      <td>-0.690491</td>\n",
       "      <td>-0.137409</td>\n",
       "      <td>-0.248343</td>\n",
       "      <td>0.321864</td>\n",
       "      <td>0.686151</td>\n",
       "    </tr>\n",
       "    <tr>\n",
       "      <th>113763</th>\n",
       "      <td>-0.454554</td>\n",
       "      <td>-0.176494</td>\n",
       "      <td>0.741306</td>\n",
       "      <td>-0.015670</td>\n",
       "      <td>0.146029</td>\n",
       "      <td>0.393889</td>\n",
       "      <td>-0.232615</td>\n",
       "    </tr>\n",
       "    <tr>\n",
       "      <th>190989</th>\n",
       "      <td>0.722214</td>\n",
       "      <td>-0.233509</td>\n",
       "      <td>-0.952665</td>\n",
       "      <td>-0.745610</td>\n",
       "      <td>-0.770389</td>\n",
       "      <td>-1.079317</td>\n",
       "      <td>-0.564211</td>\n",
       "    </tr>\n",
       "    <tr>\n",
       "      <th>...</th>\n",
       "      <td>...</td>\n",
       "      <td>...</td>\n",
       "      <td>...</td>\n",
       "      <td>...</td>\n",
       "      <td>...</td>\n",
       "      <td>...</td>\n",
       "      <td>...</td>\n",
       "    </tr>\n",
       "    <tr>\n",
       "      <th>76815</th>\n",
       "      <td>-0.800788</td>\n",
       "      <td>-0.334445</td>\n",
       "      <td>0.701824</td>\n",
       "      <td>1.026574</td>\n",
       "      <td>0.618000</td>\n",
       "      <td>0.652653</td>\n",
       "      <td>0.659879</td>\n",
       "    </tr>\n",
       "    <tr>\n",
       "      <th>71333</th>\n",
       "      <td>-0.853382</td>\n",
       "      <td>-0.151776</td>\n",
       "      <td>0.022983</td>\n",
       "      <td>-0.306853</td>\n",
       "      <td>-0.627160</td>\n",
       "      <td>-0.155227</td>\n",
       "      <td>-0.282672</td>\n",
       "    </tr>\n",
       "    <tr>\n",
       "      <th>7534</th>\n",
       "      <td>-1.779184</td>\n",
       "      <td>-0.347141</td>\n",
       "      <td>0.404691</td>\n",
       "      <td>-0.419433</td>\n",
       "      <td>0.449582</td>\n",
       "      <td>0.166929</td>\n",
       "      <td>-0.074379</td>\n",
       "    </tr>\n",
       "    <tr>\n",
       "      <th>115509</th>\n",
       "      <td>-0.439916</td>\n",
       "      <td>-0.231168</td>\n",
       "      <td>1.305723</td>\n",
       "      <td>-0.507245</td>\n",
       "      <td>-0.763597</td>\n",
       "      <td>-0.745782</td>\n",
       "      <td>0.092224</td>\n",
       "    </tr>\n",
       "    <tr>\n",
       "      <th>181004</th>\n",
       "      <td>0.632085</td>\n",
       "      <td>-0.009736</td>\n",
       "      <td>-1.135550</td>\n",
       "      <td>1.006987</td>\n",
       "      <td>-0.570015</td>\n",
       "      <td>-0.585818</td>\n",
       "      <td>-0.858177</td>\n",
       "    </tr>\n",
       "  </tbody>\n",
       "</table>\n",
       "<p>227846 rows × 7 columns</p>\n",
       "</div>"
      ],
      "text/plain": [
       "            Time    Amount        V2        V3        V5        V7       V20\n",
       "142341 -0.213151 -0.105514 -0.387376  0.335403 -0.990189 -0.324957 -0.515083\n",
       "44866  -1.109129  2.254533 -0.067869 -0.458933 -2.578340  1.607326 -0.309448\n",
       "39170  -1.159574  1.243510 -0.690491 -0.137409 -0.248343  0.321864  0.686151\n",
       "113763 -0.454554 -0.176494  0.741306 -0.015670  0.146029  0.393889 -0.232615\n",
       "190989  0.722214 -0.233509 -0.952665 -0.745610 -0.770389 -1.079317 -0.564211\n",
       "...          ...       ...       ...       ...       ...       ...       ...\n",
       "76815  -0.800788 -0.334445  0.701824  1.026574  0.618000  0.652653  0.659879\n",
       "71333  -0.853382 -0.151776  0.022983 -0.306853 -0.627160 -0.155227 -0.282672\n",
       "7534   -1.779184 -0.347141  0.404691 -0.419433  0.449582  0.166929 -0.074379\n",
       "115509 -0.439916 -0.231168  1.305723 -0.507245 -0.763597 -0.745782  0.092224\n",
       "181004  0.632085 -0.009736 -1.135550  1.006987 -0.570015 -0.585818 -0.858177\n",
       "\n",
       "[227846 rows x 7 columns]"
      ]
     },
     "execution_count": 28,
     "metadata": {},
     "output_type": "execute_result"
    }
   ],
   "source": [
    "# Important. These are the z-standardized variables. \n",
    "\n",
    "scaled_variables = (variables - averages)/SDs\n",
    "\n",
    "scaled_variables"
   ]
  },
  {
   "cell_type": "code",
   "execution_count": 29,
   "id": "face4826",
   "metadata": {},
   "outputs": [
    {
     "name": "stdout",
     "output_type": "stream",
     "text": [
      "(10000, 7)\n"
     ]
    },
    {
     "data": {
      "image/png": "[encoded data removed]",
      "text/plain": [
       "<Figure size 864x576 with 49 Axes>"
      ]
     },
     "metadata": {
      "needs_background": "light"
     },
     "output_type": "display_data"
    }
   ],
   "source": [
    "# Let's try going back to the scattering matrices, but this time with the normalized data. \n",
    "# Again, we'll just sample 10,000 data points. \n",
    "\n",
    "random_points = scaled_variables.iloc[:10000, ::]\n",
    "\n",
    "print(np.shape(random_points))\n",
    "\n",
    "scatter_matrix(random_points, figsize=(12,8))\n",
    "\n",
    "plt.show()"
   ]
  },
  {
   "cell_type": "code",
   "execution_count": 30,
   "id": "693a7922",
   "metadata": {},
   "outputs": [],
   "source": [
    "plt.close()"
   ]
  },
  {
   "cell_type": "code",
   "execution_count": 32,
   "id": "3ade1c86",
   "metadata": {},
   "outputs": [],
   "source": [
    "# Get probability vectors. The data is already z-normalized.\n",
    "\n",
    "feature_ps = 1/np.sqrt(2*np.pi)*np.exp(-scaled_variables**2/2)/SDs"
   ]
  },
  {
   "cell_type": "code",
   "execution_count": 33,
   "id": "7e73b4b0",
   "metadata": {},
   "outputs": [
    {
     "data": {
      "text/html": [
       "<div>\n",
       "<style scoped>\n",
       "    .dataframe tbody tr th:only-of-type {\n",
       "        vertical-align: middle;\n",
       "    }\n",
       "\n",
       "    .dataframe tbody tr th {\n",
       "        vertical-align: top;\n",
       "    }\n",
       "\n",
       "    .dataframe thead th {\n",
       "        text-align: right;\n",
       "    }\n",
       "</style>\n",
       "<table border=\"1\" class=\"dataframe\">\n",
       "  <thead>\n",
       "    <tr style=\"text-align: right;\">\n",
       "      <th></th>\n",
       "      <th>Time</th>\n",
       "      <th>Amount</th>\n",
       "      <th>V2</th>\n",
       "      <th>V3</th>\n",
       "      <th>V5</th>\n",
       "      <th>V7</th>\n",
       "      <th>V20</th>\n",
       "    </tr>\n",
       "  </thead>\n",
       "  <tbody>\n",
       "    <tr>\n",
       "      <th>142341</th>\n",
       "      <td>0.000008</td>\n",
       "      <td>0.001574</td>\n",
       "      <td>0.224071</td>\n",
       "      <td>0.248911</td>\n",
       "      <td>0.176166</td>\n",
       "      <td>0.304144</td>\n",
       "      <td>0.450169</td>\n",
       "    </tr>\n",
       "    <tr>\n",
       "      <th>44866</th>\n",
       "      <td>0.000005</td>\n",
       "      <td>0.000125</td>\n",
       "      <td>0.240974</td>\n",
       "      <td>0.236994</td>\n",
       "      <td>0.010358</td>\n",
       "      <td>0.088107</td>\n",
       "      <td>0.489997</td>\n",
       "    </tr>\n",
       "    <tr>\n",
       "      <th>39170</th>\n",
       "      <td>0.000004</td>\n",
       "      <td>0.000731</td>\n",
       "      <td>0.190300</td>\n",
       "      <td>0.260839</td>\n",
       "      <td>0.278892</td>\n",
       "      <td>0.304449</td>\n",
       "      <td>0.406212</td>\n",
       "    </tr>\n",
       "    <tr>\n",
       "      <th>113763</th>\n",
       "      <td>0.000008</td>\n",
       "      <td>0.001558</td>\n",
       "      <td>0.183502</td>\n",
       "      <td>0.263281</td>\n",
       "      <td>0.284576</td>\n",
       "      <td>0.296702</td>\n",
       "      <td>0.500307</td>\n",
       "    </tr>\n",
       "    <tr>\n",
       "      <th>190989</th>\n",
       "      <td>0.000006</td>\n",
       "      <td>0.001540</td>\n",
       "      <td>0.153424</td>\n",
       "      <td>0.199413</td>\n",
       "      <td>0.213772</td>\n",
       "      <td>0.179081</td>\n",
       "      <td>0.438391</td>\n",
       "    </tr>\n",
       "    <tr>\n",
       "      <th>...</th>\n",
       "      <td>...</td>\n",
       "      <td>...</td>\n",
       "      <td>...</td>\n",
       "      <td>...</td>\n",
       "      <td>...</td>\n",
       "      <td>...</td>\n",
       "      <td>...</td>\n",
       "    </tr>\n",
       "    <tr>\n",
       "      <th>76815</th>\n",
       "      <td>0.000006</td>\n",
       "      <td>0.001497</td>\n",
       "      <td>0.188805</td>\n",
       "      <td>0.155465</td>\n",
       "      <td>0.237627</td>\n",
       "      <td>0.259128</td>\n",
       "      <td>0.413459</td>\n",
       "    </tr>\n",
       "    <tr>\n",
       "      <th>71333</th>\n",
       "      <td>0.000006</td>\n",
       "      <td>0.001565</td>\n",
       "      <td>0.241466</td>\n",
       "      <td>0.251204</td>\n",
       "      <td>0.236275</td>\n",
       "      <td>0.316795</td>\n",
       "      <td>0.493896</td>\n",
       "    </tr>\n",
       "    <tr>\n",
       "      <th>7534</th>\n",
       "      <td>0.000002</td>\n",
       "      <td>0.001490</td>\n",
       "      <td>0.222539</td>\n",
       "      <td>0.241141</td>\n",
       "      <td>0.259979</td>\n",
       "      <td>0.316198</td>\n",
       "      <td>0.512608</td>\n",
       "    </tr>\n",
       "    <tr>\n",
       "      <th>115509</th>\n",
       "      <td>0.000008</td>\n",
       "      <td>0.001541</td>\n",
       "      <td>0.102980</td>\n",
       "      <td>0.231527</td>\n",
       "      <td>0.214889</td>\n",
       "      <td>0.242792</td>\n",
       "      <td>0.511847</td>\n",
       "    </tr>\n",
       "    <tr>\n",
       "      <th>181004</th>\n",
       "      <td>0.000007</td>\n",
       "      <td>0.001583</td>\n",
       "      <td>0.126755</td>\n",
       "      <td>0.158592</td>\n",
       "      <td>0.244497</td>\n",
       "      <td>0.270078</td>\n",
       "      <td>0.355684</td>\n",
       "    </tr>\n",
       "  </tbody>\n",
       "</table>\n",
       "<p>227846 rows × 7 columns</p>\n",
       "</div>"
      ],
      "text/plain": [
       "            Time    Amount        V2        V3        V5        V7       V20\n",
       "142341  0.000008  0.001574  0.224071  0.248911  0.176166  0.304144  0.450169\n",
       "44866   0.000005  0.000125  0.240974  0.236994  0.010358  0.088107  0.489997\n",
       "39170   0.000004  0.000731  0.190300  0.260839  0.278892  0.304449  0.406212\n",
       "113763  0.000008  0.001558  0.183502  0.263281  0.284576  0.296702  0.500307\n",
       "190989  0.000006  0.001540  0.153424  0.199413  0.213772  0.179081  0.438391\n",
       "...          ...       ...       ...       ...       ...       ...       ...\n",
       "76815   0.000006  0.001497  0.188805  0.155465  0.237627  0.259128  0.413459\n",
       "71333   0.000006  0.001565  0.241466  0.251204  0.236275  0.316795  0.493896\n",
       "7534    0.000002  0.001490  0.222539  0.241141  0.259979  0.316198  0.512608\n",
       "115509  0.000008  0.001541  0.102980  0.231527  0.214889  0.242792  0.511847\n",
       "181004  0.000007  0.001583  0.126755  0.158592  0.244497  0.270078  0.355684\n",
       "\n",
       "[227846 rows x 7 columns]"
      ]
     },
     "execution_count": 33,
     "metadata": {},
     "output_type": "execute_result"
    }
   ],
   "source": [
    "feature_ps"
   ]
  },
  {
   "cell_type": "code",
   "execution_count": 34,
   "id": "4f643629",
   "metadata": {},
   "outputs": [
    {
     "data": {
      "text/plain": [
       "(array([70477], dtype=int64),)"
      ]
     },
     "execution_count": 34,
     "metadata": {},
     "output_type": "execute_result"
    }
   ],
   "source": [
    "# Is there something suspicious about having a very low probability vector?\n",
    "\n",
    "np.where(feature_ps['V2'] == min(feature_ps['V2']))"
   ]
  },
  {
   "cell_type": "code",
   "execution_count": 35,
   "id": "60dbcc73",
   "metadata": {},
   "outputs": [
    {
     "data": {
      "text/plain": [
       "Time      -0.976769\n",
       "Amount    77.639092\n",
       "V2       -38.349636\n",
       "V3       -13.627447\n",
       "V5       -14.903877\n",
       "V7        20.057603\n",
       "V20       50.794416\n",
       "Name: 58465, dtype: float64"
      ]
     },
     "execution_count": 35,
     "metadata": {},
     "output_type": "execute_result"
    }
   ],
   "source": [
    "# This V2 value is basically impossible. So why?\n",
    "\n",
    "scaled_variables.iloc[70477]\n",
    "\n",
    "# That corresponds to transaction number 58465 in the original dataset. "
   ]
  },
  {
   "cell_type": "code",
   "execution_count": 36,
   "id": "57fae7e9",
   "metadata": {},
   "outputs": [
    {
     "data": {
      "text/plain": [
       "Time       5.215005e-06\n",
       "Amount     0.000000e+00\n",
       "V2        1.060759e-320\n",
       "V3         1.243485e-41\n",
       "V5         1.678345e-49\n",
       "V7         1.399784e-88\n",
       "V20        0.000000e+00\n",
       "Name: 58465, dtype: float64"
      ]
     },
     "execution_count": 36,
     "metadata": {},
     "output_type": "execute_result"
    }
   ],
   "source": [
    "# These probabilities are off the charts.\n",
    "\n",
    "feature_ps.iloc[70477]"
   ]
  },
  {
   "cell_type": "code",
   "execution_count": 37,
   "id": "7e0d33bf",
   "metadata": {},
   "outputs": [
    {
     "name": "stdout",
     "output_type": "stream",
     "text": [
      "0.0\n"
     ]
    }
   ],
   "source": [
    "# Interestingly enough, not a fraudulent transaction. \n",
    "\n",
    "print(df.iloc[70477]['Class'])\n",
    "\n",
    "# So let's gather some fraudulent transactions and look at their feature probabilities (on the training data). \n",
    "\n",
    "fraud_indices = np.where(train_data['Class'] == 1)[0]"
   ]
  },
  {
   "cell_type": "code",
   "execution_count": 38,
   "id": "85582c86",
   "metadata": {},
   "outputs": [
    {
     "data": {
      "text/html": [
       "<div>\n",
       "<style scoped>\n",
       "    .dataframe tbody tr th:only-of-type {\n",
       "        vertical-align: middle;\n",
       "    }\n",
       "\n",
       "    .dataframe tbody tr th {\n",
       "        vertical-align: top;\n",
       "    }\n",
       "\n",
       "    .dataframe thead th {\n",
       "        text-align: right;\n",
       "    }\n",
       "</style>\n",
       "<table border=\"1\" class=\"dataframe\">\n",
       "  <thead>\n",
       "    <tr style=\"text-align: right;\">\n",
       "      <th></th>\n",
       "      <th>Time</th>\n",
       "      <th>Amount</th>\n",
       "      <th>V2</th>\n",
       "      <th>V3</th>\n",
       "      <th>V5</th>\n",
       "      <th>V7</th>\n",
       "      <th>V20</th>\n",
       "    </tr>\n",
       "  </thead>\n",
       "  <tbody>\n",
       "    <tr>\n",
       "      <th>149874</th>\n",
       "      <td>0.000008</td>\n",
       "      <td>0.000200</td>\n",
       "      <td>0.034640</td>\n",
       "      <td>0.000005</td>\n",
       "      <td>0.003083</td>\n",
       "      <td>0.314293</td>\n",
       "      <td>0.285758</td>\n",
       "    </tr>\n",
       "    <tr>\n",
       "      <th>93486</th>\n",
       "      <td>0.000007</td>\n",
       "      <td>0.001489</td>\n",
       "      <td>0.209957</td>\n",
       "      <td>0.258038</td>\n",
       "      <td>0.280896</td>\n",
       "      <td>0.320441</td>\n",
       "      <td>0.487846</td>\n",
       "    </tr>\n",
       "    <tr>\n",
       "      <th>57615</th>\n",
       "      <td>0.000005</td>\n",
       "      <td>0.001490</td>\n",
       "      <td>0.095867</td>\n",
       "      <td>0.139813</td>\n",
       "      <td>0.198713</td>\n",
       "      <td>0.104268</td>\n",
       "      <td>0.495716</td>\n",
       "    </tr>\n",
       "    <tr>\n",
       "      <th>261925</th>\n",
       "      <td>0.000003</td>\n",
       "      <td>0.001527</td>\n",
       "      <td>0.151248</td>\n",
       "      <td>0.102076</td>\n",
       "      <td>0.166964</td>\n",
       "      <td>0.269604</td>\n",
       "      <td>0.412859</td>\n",
       "    </tr>\n",
       "    <tr>\n",
       "      <th>230476</th>\n",
       "      <td>0.000005</td>\n",
       "      <td>0.001582</td>\n",
       "      <td>0.057600</td>\n",
       "      <td>0.000033</td>\n",
       "      <td>0.143928</td>\n",
       "      <td>0.056999</td>\n",
       "      <td>0.466452</td>\n",
       "    </tr>\n",
       "  </tbody>\n",
       "</table>\n",
       "</div>"
      ],
      "text/plain": [
       "            Time    Amount        V2        V3        V5        V7       V20\n",
       "149874  0.000008  0.000200  0.034640  0.000005  0.003083  0.314293  0.285758\n",
       "93486   0.000007  0.001489  0.209957  0.258038  0.280896  0.320441  0.487846\n",
       "57615   0.000005  0.001490  0.095867  0.139813  0.198713  0.104268  0.495716\n",
       "261925  0.000003  0.001527  0.151248  0.102076  0.166964  0.269604  0.412859\n",
       "230476  0.000005  0.001582  0.057600  0.000033  0.143928  0.056999  0.466452"
      ]
     },
     "execution_count": 38,
     "metadata": {},
     "output_type": "execute_result"
    }
   ],
   "source": [
    "train_fraud_cases = pd.DataFrame([feature_ps.iloc[k] for k in fraud_indices])\n",
    "\n",
    "train_fraud_cases.head()"
   ]
  },
  {
   "cell_type": "code",
   "execution_count": 39,
   "id": "f7876023",
   "metadata": {},
   "outputs": [
    {
     "data": {
      "image/png": "[encoded data removed]",
      "text/plain": [
       "<Figure size 432x288 with 6 Axes>"
      ]
     },
     "metadata": {
      "needs_background": "light"
     },
     "output_type": "display_data"
    }
   ],
   "source": [
    "# Do the fraudulent probabilities look different than the valid ones?\n",
    "\n",
    "fig, ax = plt.subplots(2, 3)\n",
    "\n",
    "ax[0, 0].hist(train_fraud_cases['V2']) #row=0, col=0\n",
    "ax[1, 0].hist(train_fraud_cases['V3'], color='r') #row=1, col=0\n",
    "ax[0, 1].hist(train_fraud_cases['V5'], color='g') #row=0, col=1\n",
    "ax[1, 1].hist(train_fraud_cases['V7'], color='y') #row=1, col=1\n",
    "ax[0, 2].hist(train_fraud_cases['V20'], color='m') #row=0, col=2\n",
    "\n",
    "plt.show()"
   ]
  },
  {
   "cell_type": "code",
   "execution_count": 40,
   "id": "2ae8531e",
   "metadata": {},
   "outputs": [
    {
     "data": {
      "image/png": "[encoded data removed]",
      "text/plain": [
       "<Figure size 432x288 with 6 Axes>"
      ]
     },
     "metadata": {
      "needs_background": "light"
     },
     "output_type": "display_data"
    }
   ],
   "source": [
    "train_valid_cases = pd.DataFrame(feature_ps.drop(train_fraud_cases.index))\n",
    "\n",
    "# Plots of probabilities for valid transactions. So these variables definitely have something \n",
    "# to say about whether a given transaction is false or not. Especially V3 and V7.\n",
    "\n",
    "fig, ax = plt.subplots(2, 3)\n",
    "\n",
    "ax[0, 0].hist(train_valid_cases['V2']) #row=0, col=0\n",
    "ax[1, 0].hist(train_valid_cases['V3'], color='r') #row=1, col=0\n",
    "ax[0, 1].hist(train_valid_cases['V5'], color='g') #row=0, col=1\n",
    "ax[1, 1].hist(train_valid_cases['V7'], color='y') #row=1, col=1\n",
    "ax[0, 2].hist(train_valid_cases['V20'], color='m') #row=0, col=2\n",
    "\n",
    "plt.show()"
   ]
  },
  {
   "cell_type": "code",
   "execution_count": 41,
   "id": "5e116d93",
   "metadata": {},
   "outputs": [
    {
     "name": "stdout",
     "output_type": "stream",
     "text": [
      "0.9829446204892779\n"
     ]
    }
   ],
   "source": [
    "# Let's split according to V2, V3, V5, and V7 separately. Adjust epsilon p_j >= epsilon until we have 50/50 split.\n",
    "# Let's only drop V3 and V7.\n",
    "\n",
    "#V2_indices = np.where(feature_ps['V2'] >= 0.1)[0]\n",
    "V3_indices = np.where(feature_ps['V3'] >= 0.07)[0]\n",
    "#V5_indices = np.where(feature_ps['V5'] >= 0.1)[0]\n",
    "V7_indices = np.where(feature_ps['V7'] >= 0.17)[0]\n",
    "\n",
    "# Now take the union. \n",
    "\n",
    "drop_indices = reduce(np.union1d, (V3_indices, V7_indices))\n",
    "#drop_indices = V3_indices\n",
    "\n",
    "a = len(drop_indices)\n",
    "b = len(feature_ps)\n",
    "print(a/b)"
   ]
  },
  {
   "cell_type": "code",
   "execution_count": 203,
   "id": "f68d9d8b",
   "metadata": {},
   "outputs": [],
   "source": [
    "# Since V14 and V17 are correlated with Class, let's plot them. \n",
    "\n",
    "X = df.iloc[:, [14, 17]]\n",
    "y = df.iloc[:, 30]\n",
    "\n",
    "# The average of V14 and V17 are already 0 but it doesn't seem like the SD is normalized. \n",
    "\n",
    "X = np.array(X)\n",
    "\n",
    "SDs = np.sum(X**2, axis=0)/np.shape(X)[0]\n",
    "\n",
    "norm_X = X/SDs"
   ]
  },
  {
   "cell_type": "code",
   "execution_count": 204,
   "id": "29926946",
   "metadata": {},
   "outputs": [
    {
     "data": {
      "image/png": "[encoded data removed]",
      "text/plain": [
       "<Figure size 864x576 with 1 Axes>"
      ]
     },
     "metadata": {
      "needs_background": "light"
     },
     "output_type": "display_data"
    }
   ],
   "source": [
    "# Scatter plot of 14 against 17 labeling the data valid/fraud. \n",
    "# Why are there these lines in the data? \n",
    "# I'm going to adjust the line's constant until I have roughly a 50/50 split.\n",
    "\n",
    "plt.figure(figsize=(12,8))\n",
    "\n",
    "x_points = np.array([-20, 12])\n",
    "z = -1*x_points - 4.56\n",
    "\n",
    "plt.plot(x_points, z, color='r')\n",
    "\n",
    "plt.scatter(X[y == 0, 0], X[y == 0, 1], color='orange', label='0')\n",
    "plt.scatter(X[y == 1, 0], X[y == 1, 1], color='blue', label='1')\n",
    "\n",
    "plt.xlabel(\"$V_{14}$\",fontsize=16)\n",
    "plt.ylabel(\"$V_{17}$\",fontsize=16)\n",
    "plt.title(\"V14 vs V17\",fontsize = 20)\n",
    "\n",
    "plt.ylim(np.array([-28, 13]))\n",
    "\n",
    "plt.show()"
   ]
  },
  {
   "cell_type": "code",
   "execution_count": 205,
   "id": "0f703cb7",
   "metadata": {},
   "outputs": [],
   "source": [
    "plt.close()"
   ]
  },
  {
   "cell_type": "code",
   "execution_count": 206,
   "id": "99db26e2",
   "metadata": {},
   "outputs": [
    {
     "name": "stdout",
     "output_type": "stream",
     "text": [
      "787\n",
      "787\n"
     ]
    }
   ],
   "source": [
    "# I want to train the model on different regions where I think the behavior is different.\n",
    "# The region where the frauds are mixed up heavily with the valid might be trouble. \n",
    "# The bottom region will correspond to x + y <= -4. \n",
    "\n",
    "indices = []\n",
    "\n",
    "for k in range(np.shape(X)[0]):\n",
    "    if  X[k][0] + X[k][1] <= -4.56:\n",
    "        indices.append(k)\n",
    "        \n",
    "print(len(indices))\n",
    "\n",
    "X_region = X[indices]\n",
    "y_region = y[indices]\n",
    "\n",
    "print(len(y_region))"
   ]
  },
  {
   "cell_type": "code",
   "execution_count": 49,
   "id": "2274a1a5",
   "metadata": {},
   "outputs": [
    {
     "name": "stdout",
     "output_type": "stream",
     "text": [
      "Number of fraudulent transactions in Region 1 is 394\n",
      "Proportion of fraudulent transcations in region 1 is 0.5006353240152478\n"
     ]
    }
   ],
   "source": [
    "# \n",
    "\n",
    "num_fraud = np.sum(y_region)\n",
    "\n",
    "print(f'Number of fraudulent transactions in Region 1 is {num_fraud}')\n",
    "\n",
    "prop = np.sum(y_region)/len(y_region)\n",
    "\n",
    "print(f'Proportion of fraudulent transcations in region 1 is {prop}')"
   ]
  },
  {
   "cell_type": "code",
   "execution_count": 52,
   "id": "7c1fd4a1",
   "metadata": {},
   "outputs": [],
   "source": [
    "# RF model on region 1\n",
    "\n",
    "X_1 = df.iloc[indices, :-1].copy()\n",
    "y_1 = df['Class'].iloc[indices].copy()\n",
    "\n",
    "X_train, X_test, y_train, y_test = train_test_split(X_1, y_1,\n",
    "                                                 test_size = .25,\n",
    "                                                 random_state = 614,\n",
    "                                                 shuffle = True,\n",
    "                                                 stratify = y_1)\n"
   ]
  },
  {
   "cell_type": "code",
   "execution_count": 57,
   "id": "e2e184f9",
   "metadata": {},
   "outputs": [
    {
     "name": "stdout",
     "output_type": "stream",
     "text": [
      "1\n",
      "2\n",
      "3\n",
      "4\n",
      "5\n",
      "6\n",
      "7\n",
      "8\n",
      "9\n",
      "10\n",
      "11\n",
      "12\n",
      "13\n",
      "14\n",
      "15\n",
      "16\n",
      "17\n",
      "18\n",
      "19\n",
      "20\n"
     ]
    }
   ],
   "source": [
    "# Perform CV to determine the optimal max_depth. \n",
    "\n",
    "kfold = StratifiedKFold(n_splits=5, shuffle=True, random_state=440)\n",
    "\n",
    "X_train_copy = X_train.copy() # Should we keep all the columns?\n",
    "\n",
    "# Let's consider n=20 as the maximum max_depth. \n",
    "\n",
    "n=20\n",
    "\n",
    "precs = np.zeros((5,n))\n",
    "recs = np.zeros((5,n)) \n",
    "\n",
    "# Make a RF for every value of max_depth up to n\n",
    "\n",
    "\n",
    "for j in range(1, n+1):\n",
    "    print(j)\n",
    "    \n",
    "    rf = RandomForestClassifier(n_estimators=500, max_depth=j, random_state=440)\n",
    "    \n",
    "    i = 0\n",
    "    for train_index, test_index in kfold.split(X_train_copy, y_train):\n",
    "        X_train_train, X_train_test = X_train_copy.iloc[train_index], X_train_copy.iloc[test_index]\n",
    "        y_train_train, y_train_test = y_train.iloc[train_index], y_train.iloc[test_index]\n",
    "        \n",
    "        rf_clone = clone(rf)\n",
    "        rf_clone.fit(X_train_train, y_train_train)\n",
    "        \n",
    "        y_pred = rf_clone.predict(X_train_test)\n",
    "        precs[i,j-1] = precision_score(y_train_test, y_pred)\n",
    "        recs[i,j-1] = recall_score(y_train_test, y_pred)\n",
    "        i += 1\n",
    "    "
   ]
  },
  {
   "cell_type": "code",
   "execution_count": 61,
   "id": "8a95d789",
   "metadata": {},
   "outputs": [
    {
     "data": {
      "image/png": "[encoded data removed]",
      "text/plain": [
       "<Figure size 1008x720 with 1 Axes>"
      ]
     },
     "metadata": {
      "needs_background": "light"
     },
     "output_type": "display_data"
    }
   ],
   "source": [
    "## Plot that mean cv measure against max_depth\n",
    "\n",
    "F1 = 2*precs*recs/(precs+recs)\n",
    "\n",
    "## Sample Answer\n",
    "plt.figure(figsize=(14,10))\n",
    "\n",
    "plt.plot(range(1,n+1), np.mean(F1,axis=0),'y-o', label=\"F1\")\n",
    "plt.plot(range(1,n+1), np.mean(precs,axis=0),'r-o', label=\"Precision\")\n",
    "plt.plot(range(1,n+1), np.mean(recs,axis=0),'g-o', label=\"Recall\")\n",
    "\n",
    "plt.ylabel(\"Mean CV Performance Score for Region 1\",fontsize=16)\n",
    "plt.xlabel(\"Max Depth\",fontsize=16)\n",
    "\n",
    "plt.legend(fontsize=16)\n",
    "\n",
    "plt.show()"
   ]
  },
  {
   "cell_type": "code",
   "execution_count": 91,
   "id": "f0bcd22a",
   "metadata": {},
   "outputs": [],
   "source": [
    "# Recall here is more important, so maybe we should go with max_depth = 5 or 6. \n",
    "rf = RandomForestClassifier(n_estimators=500, max_depth=6, random_state=440)\n",
    "\n",
    "rf.fit(X_train, y_train)\n",
    "y_pred = rf.predict(X_test)"
   ]
  },
  {
   "cell_type": "code",
   "execution_count": 92,
   "id": "f29c9f5d",
   "metadata": {},
   "outputs": [
    {
     "name": "stdout",
     "output_type": "stream",
     "text": [
      "0.9238095238095239\n",
      "0.9797979797979798\n"
     ]
    }
   ],
   "source": [
    "# The training on region 1 (these are backwards)\n",
    "\n",
    "print(recall_score(y_pred, y_test))\n",
    "print(precision_score(y_pred, y_test))"
   ]
  },
  {
   "cell_type": "code",
   "execution_count": 302,
   "id": "17dff942",
   "metadata": {},
   "outputs": [],
   "source": [
    "# Let's try out the prediction on the larger data set to see how it does. \n",
    "\n",
    "fraud_list = df['Class'].loc[lambda s: s == 1]\n",
    "fraud_data = df.iloc[fraud_list.index]\n",
    "valid_data = df.drop(fraud_data.index)\n",
    "\n",
    "valid_sample = valid_data.sample(492, random_state=42)\n",
    "\n",
    "balanced_data = pd.concat([fraud_data, valid_sample])\n",
    "\n",
    "# Make a copy and shuffle\n",
    "\n",
    "balanced_copy = balanced_data.copy()\n",
    "balanced_copy = balanced_copy.sample(frac=1, random_state=21)\n"
   ]
  },
  {
   "cell_type": "code",
   "execution_count": 201,
   "id": "b85635b4",
   "metadata": {},
   "outputs": [
    {
     "name": "stdout",
     "output_type": "stream",
     "text": [
      "Class    492\n",
      "dtype: int64\n"
     ]
    }
   ],
   "source": [
    "# Now the predictions\n",
    "\n",
    "X = balanced_copy.iloc[:, :-1]\n",
    "y = pd.DataFrame(balanced_copy['Class'])\n",
    "\n",
    "# Just a check\n",
    "print(np.sum(y))\n",
    "\n",
    "y_pred = rf.predict(X)"
   ]
  },
  {
   "cell_type": "code",
   "execution_count": 199,
   "id": "72cf90f3",
   "metadata": {},
   "outputs": [
    {
     "name": "stdout",
     "output_type": "stream",
     "text": [
      "0.8252032520325203\n",
      "1.0\n"
     ]
    }
   ],
   "source": [
    "# Metrics\n",
    "\n",
    "print(recall_score(y, y_pred))\n",
    "print(precision_score(y, y_pred))"
   ]
  },
  {
   "cell_type": "code",
   "execution_count": 194,
   "id": "188000b5",
   "metadata": {},
   "outputs": [
    {
     "data": {
      "text/plain": [
       "0    578\n",
       "1    406\n",
       "dtype: int64"
      ]
     },
     "execution_count": 194,
     "metadata": {},
     "output_type": "execute_result"
    }
   ],
   "source": [
    "# It's underclassifying. Reason: it's good at detecting fraud cases in region 1, but not region 2.\n",
    "# So we need another classifier for region 2. \n",
    "\n",
    "np.unique(y_pred, return_counts=True)\n",
    "\n",
    "# Or the pandas way\n",
    "\n",
    "y_pred = pd.DataFrame(y_pred)\n",
    "\n",
    "y_pred.value_counts()"
   ]
  },
  {
   "cell_type": "code",
   "execution_count": 388,
   "id": "184dce7d",
   "metadata": {},
   "outputs": [],
   "source": [
    "# So let's work on region 2. Make sure to rerun the earlier blocks defining indices. \n",
    "# Problem is, this region is even more imbalanced. But let's see where it goes. \n",
    "# I feel like a 50/50 split is not a good idea, so let's do about 70/30. \n",
    "\n",
    "X_2 = df.drop(X_1.index)\n",
    "y_2 = df['Class'].drop(X_1.index)\n",
    "\n"
   ]
  },
  {
   "cell_type": "code",
   "execution_count": 306,
   "id": "184be3a0",
   "metadata": {},
   "outputs": [
    {
     "data": {
      "text/plain": [
       "True"
      ]
     },
     "execution_count": 306,
     "metadata": {},
     "output_type": "execute_result"
    }
   ],
   "source": [
    "len(X_2) + len(X_1) == len(df)"
   ]
  },
  {
   "cell_type": "code",
   "execution_count": 307,
   "id": "dabeb937",
   "metadata": {},
   "outputs": [
    {
     "name": "stdout",
     "output_type": "stream",
     "text": [
      "0    283922\n",
      "1        98\n",
      "Name: Class, dtype: int64\n"
     ]
    },
    {
     "data": {
      "text/plain": [
       "0.00034516522143405586"
      ]
     },
     "execution_count": 307,
     "metadata": {},
     "output_type": "execute_result"
    }
   ],
   "source": [
    "print(y_2.value_counts())\n",
    "\n",
    "98/283922"
   ]
  },
  {
   "cell_type": "code",
   "execution_count": 380,
   "id": "30b6e766",
   "metadata": {},
   "outputs": [],
   "source": [
    "# Similar to before\n",
    "\n",
    "fraud_list_2 = fraud_list.copy()\n",
    "fraud_data = df.iloc[fraud_list.index]\n",
    "\n",
    "fraud_data_2 = pd.merge(X_2, fraud_data) # This renames the indices!!\n",
    "valid_data_2 = pd.merge(X_2, valid_data)\n",
    "\n",
    "# Let's randomly sample 98 valid transactions to get a 50/50 split. \n",
    "\n",
    "valid_sample_2 = valid_data_2.sample(98, random_state=42)\n",
    "\n",
    "balanced_data = pd.concat([fraud_data_2, valid_sample_2])\n",
    "\n",
    "# Make a copy and shuffle\n",
    "\n",
    "balanced_copy = balanced_data.copy()\n",
    "balanced_copy = balanced_copy.sample(frac=1, random_state=21)"
   ]
  },
  {
   "cell_type": "code",
   "execution_count": 381,
   "id": "09890d7c",
   "metadata": {},
   "outputs": [
    {
     "name": "stdout",
     "output_type": "stream",
     "text": [
      "0    287320\n",
      "Name: Class, dtype: int64\n",
      "1    98\n",
      "Name: Class, dtype: int64\n"
     ]
    },
    {
     "data": {
      "text/plain": [
       "1    98\n",
       "0    98\n",
       "Name: Class, dtype: int64"
      ]
     },
     "execution_count": 381,
     "metadata": {},
     "output_type": "execute_result"
    }
   ],
   "source": [
    "# Check to make sure it's working. \n",
    "print(valid_data_2['Class'].value_counts())\n",
    "print(fraud_data_2['Class'].value_counts())\n",
    "balanced_copy['Class'].value_counts()"
   ]
  },
  {
   "cell_type": "code",
   "execution_count": 382,
   "id": "263babaf",
   "metadata": {},
   "outputs": [],
   "source": [
    "X_new = balanced_copy.iloc[:, :-1]\n",
    "y_new = balanced_copy['Class']\n",
    "\n",
    "X_train, X_test, y_train, y_test = train_test_split(X_new, y_new,\n",
    "                                                 test_size = .25,\n",
    "                                                 random_state = 614,\n",
    "                                                 shuffle = True,\n",
    "                                                 stratify = y_new)"
   ]
  },
  {
   "cell_type": "code",
   "execution_count": 383,
   "id": "abafd174",
   "metadata": {},
   "outputs": [
    {
     "name": "stdout",
     "output_type": "stream",
     "text": [
      "1\n",
      "2\n",
      "3\n",
      "4\n",
      "5\n",
      "6\n",
      "7\n",
      "8\n",
      "9\n",
      "10\n",
      "11\n",
      "12\n",
      "13\n",
      "14\n",
      "15\n",
      "16\n",
      "17\n",
      "18\n",
      "19\n",
      "20\n"
     ]
    }
   ],
   "source": [
    "# Same cv stuff on region 2.\n",
    "\n",
    "# Perform CV to determine the optimal max_depth. \n",
    "\n",
    "kfold = StratifiedKFold(n_splits=5, shuffle=True, random_state=440)\n",
    "\n",
    "X_train_copy = X_train.copy() # Should we keep all the columns?\n",
    "\n",
    "# Let's consider n=20 as the maximum max_depth. \n",
    "\n",
    "n=20\n",
    "\n",
    "precs = np.zeros((5,n))\n",
    "recs = np.zeros((5,n)) \n",
    "\n",
    "# Make a RF for every value of max_depth up to n\n",
    "\n",
    "\n",
    "for j in range(1, n+1):\n",
    "    print(j)\n",
    "    \n",
    "    rf = RandomForestClassifier(n_estimators=500, max_depth=j, random_state=440)\n",
    "    \n",
    "    i = 0\n",
    "    for train_index, test_index in kfold.split(X_train_copy, y_train):\n",
    "        X_train_train, X_train_test = X_train_copy.iloc[train_index], X_train_copy.iloc[test_index]\n",
    "        y_train_train, y_train_test = y_train.iloc[train_index], y_train.iloc[test_index]\n",
    "        \n",
    "        rf_clone = clone(rf)\n",
    "        rf_clone.fit(X_train_train, y_train_train)\n",
    "        \n",
    "        y_pred = rf_clone.predict(X_train_test)\n",
    "        precs[i,j-1] = precision_score(y_train_test, y_pred)\n",
    "        recs[i,j-1] = recall_score(y_train_test, y_pred)\n",
    "        i += 1"
   ]
  },
  {
   "cell_type": "code",
   "execution_count": 384,
   "id": "7daee4b0",
   "metadata": {},
   "outputs": [
    {
     "data": {
      "image/png": "[encoded data removed]",
      "text/plain": [
       "<Figure size 1008x720 with 1 Axes>"
      ]
     },
     "metadata": {
      "needs_background": "light"
     },
     "output_type": "display_data"
    }
   ],
   "source": [
    "## Plot that mean cv measure against max_depth\n",
    "\n",
    "F1 = 2*precs*recs/(precs+recs)\n",
    "\n",
    "## Sample Answer\n",
    "plt.figure(figsize=(14,10))\n",
    "\n",
    "plt.plot(range(1,n+1), np.mean(F1,axis=0),'y-o', label=\"F1\")\n",
    "plt.plot(range(1,n+1), np.mean(precs,axis=0),'r-o', label=\"Precision\")\n",
    "plt.plot(range(1,n+1), np.mean(recs,axis=0),'g-o', label=\"Recall\")\n",
    "\n",
    "plt.ylabel(\"Mean CV Performance Score for Region 1\",fontsize=16)\n",
    "plt.xlabel(\"Max Depth\",fontsize=16)\n",
    "\n",
    "plt.legend(fontsize=16)\n",
    "\n",
    "plt.show()"
   ]
  },
  {
   "cell_type": "code",
   "execution_count": 385,
   "id": "a9f6d7d3",
   "metadata": {},
   "outputs": [],
   "source": [
    "# Let's set max_depth to 7 here. \n",
    "\n",
    "rf_2 = RandomForestClassifier(n_estimators=500, max_depth=6, random_state=440)\n",
    "\n",
    "rf_2.fit(X_train, y_train)\n",
    "y_pred = rf_2.predict(X_test)"
   ]
  },
  {
   "cell_type": "code",
   "execution_count": 387,
   "id": "2993100e",
   "metadata": {},
   "outputs": [
    {
     "name": "stdout",
     "output_type": "stream",
     "text": [
      "0.8\n",
      "0.9523809523809523\n"
     ]
    }
   ],
   "source": [
    "print(recall_score(y_test, y_pred))\n",
    "print(precision_score(y_test, y_pred))"
   ]
  },
  {
   "cell_type": "code",
   "execution_count": 390,
   "id": "dffadc97",
   "metadata": {},
   "outputs": [
    {
     "data": {
      "text/plain": [
       "0.935"
      ]
     },
     "execution_count": 390,
     "metadata": {},
     "output_type": "execute_result"
    }
   ],
   "source": [
    "# Now we combine rf and rf_2 into a single predictor. Maybe we can expect the recall to be\n",
    "\n",
    "exp_rec = .75*.98 + .25*.8\n",
    "exp_rec"
   ]
  },
  {
   "cell_type": "code",
   "execution_count": null,
   "id": "accb8718",
   "metadata": {},
   "outputs": [],
   "source": []
  }
 ],
 "metadata": {
  "kernelspec": {
   "display_name": "Python 3 (ipykernel)",
   "language": "python",
   "name": "python3"
  },
  "language_info": {
   "codemirror_mode": {
    "name": "ipython",
    "version": 3
   },
   "file_extension": ".py",
   "mimetype": "text/x-python",
   "name": "python",
   "nbconvert_exporter": "python",
   "pygments_lexer": "ipython3",
   "version": "3.9.7"
  }
 },
 "nbformat": 4,
 "nbformat_minor": 5
}
